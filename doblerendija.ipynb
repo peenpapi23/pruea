{
  "nbformat": 4,
  "nbformat_minor": 0,
  "metadata": {
    "colab": {
      "provenance": []
    },
    "kernelspec": {
      "name": "python3",
      "display_name": "Python 3"
    },
    "language_info": {
      "name": "python"
    }
  },
  "cells": [
    {
      "cell_type": "markdown",
      "source": [
        "prueba"
      ],
      "metadata": {
        "id": "wXR1o8Zk14IC"
      }
    },
    {
      "cell_type": "code",
      "source": [
        "# Importar la clase Lb desde el archivo lb.py\n",
        "from lb import Lb\n",
        "\n",
        "# Creación de la instancia de la clase Lb\n",
        "lb = Lb()\n",
        "\n",
        "# Conversión de números complejos a tuplas\n",
        "a = (1/(2**(1/2)), 0)\n",
        "b = (-1/(6**(1/2)), (1/(6**(1/2))))\n",
        "c = (-1/(6**(1/2)), (-1/(6**(1/2))))\n",
        "d = (1/(6**(1/2)), (-1/(6**(1/2))))\n",
        "\n",
        "# Multiplicaciones y suma usando las funciones de la clase\n",
        "MMX = [ 0 ,\n",
        "        0 ,\n",
        "        0 ,\n",
        "        lb.multiC(a, b),\n",
        "        lb.multiC(a, c),\n",
        "        lb.sumaC(lb.multiC(a, d), lb.multiC(a, b)),\n",
        "        lb.multiC(a, c),\n",
        "        lb.multiC(a, d)\n",
        "       ]\n",
        "\n",
        "# Impresión del resultado final\n",
        "print('| ', MMX[0], ' |')\n",
        "print('| ', MMX[1], ' |')\n",
        "print('| ', MMX[2], ' |')\n",
        "print('| ', MMX[3], ' |')\n",
        "print('| ', MMX[4], ' |')\n",
        "print('| ', MMX[5], ' |')\n",
        "print('| ', MMX[6], ' |')\n",
        "print('| ', MMX[7], ' |')\n"
      ],
      "metadata": {
        "id": "LQpdq42k3yA6"
      },
      "execution_count": null,
      "outputs": []
    }
  ]
}