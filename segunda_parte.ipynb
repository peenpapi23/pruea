{
  "nbformat": 4,
  "nbformat_minor": 0,
  "metadata": {
    "colab": {
      "provenance": []
    },
    "kernelspec": {
      "name": "python3",
      "display_name": "Python 3"
    },
    "language_info": {
      "name": "python"
    }
  },
  "cells": [
    {
      "cell_type": "markdown",
      "source": [
        "#retos de programación\n",
        "Juan Diego Melo Suarez"
      ],
      "metadata": {
        "id": "9Sm2X43aff2k"
      }
    },
    {
      "cell_type": "markdown",
      "source": [
        "#1 amplitud_transicion\n",
        "Esta función, mide la probabilidad de que un sistema cuántico en un estado inicial ket1 se observe en un estado final ket2 después de realizar una medición. En la teoría cuántica, esta probabilidad se calcula tomando el producto interno (o amplitud de transición) entre los dos estados."
      ],
      "metadata": {
        "id": "9sMoH4D0x9zr"
      }
    },
    {
      "cell_type": "code",
      "source": [
        "import numpy as np\n",
        "\n",
        "# Definimos los kets como arreglos de NumPy\n",
        "ket1 = np.array([0.6, 0.8, 0], dtype=complex)\n",
        "ket2 = np.array([0 + 1j, 1 + 0j, 0], dtype=complex)\n",
        "\n",
        "# Función para calcular la amplitud de transición\n",
        "def amplitud_transicion(ket1, ket2):\n",
        "    return np.abs(np.vdot(ket2, ket1)) ** 2\n",
        "\n",
        "# Calculamos la amplitud de transición\n",
        "amplitud = amplitud_transicion(ket1, ket2)\n",
        "print(\"Amplitud de transición:\", amplitud)\n"
      ],
      "metadata": {
        "colab": {
          "base_uri": "https://localhost:8080/"
        },
        "id": "8EJevIoKwp4B",
        "outputId": "c4986399-55f4-4207-ae25-470bfc37f020"
      },
      "execution_count": 14,
      "outputs": [
        {
          "output_type": "stream",
          "name": "stdout",
          "text": [
            "Amplitud de transición: 1.0\n"
          ]
        }
      ]
    },
    {
      "cell_type": "markdown",
      "source": [
        "#2\n",
        "calcula la media (o valor esperado) y la varianza de un observable representado por una matriz hermitiana en un estado dado ket .\n",
        "La media es el valor promedio esperado al medir el observable en el estado ket, y la varianza mide la \"incertidumbre\" o dispersión en esos valores posibles."
      ],
      "metadata": {
        "id": "OH5U-a6xfbLF"
      }
    },
    {
      "cell_type": "code",
      "source": [
        "import numpy as np\n",
        "\n",
        "def es_hermitiana(matriz):\n",
        "    # Verifica si la matriz es igual a su conjugada transpuesta\n",
        "    return np.allclose(matriz, matriz.conj().T)\n",
        "\n",
        "def media_varianza_observable(matriz, ket):\n",
        "    if not es_hermitiana(matriz):\n",
        "        raise ValueError(\"La matriz no es hermitiana.\")\n",
        "\n",
        "    # Calcular la media (valor esperado)\n",
        "    media = np.vdot(ket, np.dot(matriz, ket))\n",
        "\n",
        "    # Calcular la varianza\n",
        "    A2 = np.dot(matriz, matriz)\n",
        "    media_A2 = np.vdot(ket, np.dot(A2, ket))\n",
        "    varianza = media_A2 - np.abs(media) ** 2\n",
        "\n",
        "    # Asegurarse de que la varianza sea un número real\n",
        "    varianza = np.real(varianza)\n",
        "\n",
        "    return media, varianza\n",
        "\n",
        "# Ejemplo de uso\n",
        "matriz = np.array([[1, 1j], [-1j, 2]])\n",
        "ket = np.array([1+1j, 0+1j])\n",
        "\n",
        "media, varianza = media_varianza_observable(matriz, ket)\n",
        "print(\"Media:\", media)\n",
        "print(\"Varianza:\", varianza)\n"
      ],
      "metadata": {
        "id": "mUA91lFOfa9F",
        "colab": {
          "base_uri": "https://localhost:8080/"
        },
        "outputId": "a95affee-8f13-4169-c420-4793351dd011"
      },
      "execution_count": 13,
      "outputs": [
        {
          "output_type": "stream",
          "name": "stdout",
          "text": [
            "Media: (2+0j)\n",
            "Varianza: -1.0\n"
          ]
        }
      ]
    },
    {
      "cell_type": "markdown",
      "source": [
        "#3\n",
        "La función probabilidades_valores_propios calcula los valores propios de un observable y las probabilidades de transición del sistema al estado asociado a cada vector propio"
      ],
      "metadata": {
        "id": "dAGWXqETfVYt"
      }
    },
    {
      "cell_type": "code",
      "source": [
        "import numpy as np\n",
        "\n",
        "def valores_propios_probabilidad(matriz, ket):\n",
        "    if not es_hermitiana(matriz):\n",
        "        raise ValueError(\"La matriz no es hermitiana.\")\n",
        "\n",
        "    # Obtener los valores propios y los vectores propios\n",
        "    valores_propios, vectores_propios = np.linalg.eigh(matriz)\n",
        "\n",
        "    # Calcular las probabilidades de transición a los vectores propios\n",
        "    probabilidades = []\n",
        "    for vec_propio in vectores_propios.T:\n",
        "        probabilidad = np.abs(np.vdot(vec_propio, ket)) ** 2\n",
        "        probabilidades.append(probabilidad)\n",
        "\n",
        "    return valores_propios, probabilidades\n",
        "\n",
        "matriz = np.array([[1, 1j], [-1j, 2]])\n",
        "ket = np.array([1+1j, 0+1j])\n",
        "\n",
        "valores_propios, probabilidades = valores_propios_probabilidad(matriz, ket)\n",
        "print(\"Valores propios:\", valores_propios)\n",
        "print(\"Probabilidades de transición:\", probabilidades)"
      ],
      "metadata": {
        "id": "ti_yppfBfVSV",
        "colab": {
          "base_uri": "https://localhost:8080/"
        },
        "outputId": "7b71851f-f2b8-49a3-8213-41a2a3e59528"
      },
      "execution_count": 12,
      "outputs": [
        {
          "output_type": "stream",
          "name": "stdout",
          "text": [
            "Valores propios: [0.38196601 2.61803399]\n",
            "Probabilidades de transición: [2.6180339887498945, 0.3819660112501051]\n"
          ]
        }
      ]
    },
    {
      "cell_type": "markdown",
      "source": [
        "#4\n",
        "la evolución de un sistema se describe mediante operadores unitarios que transforman el estado inicial a lo largo del tiempo o en función de ciertas interacciones."
      ],
      "metadata": {
        "id": "N1Y16ChIfTiN"
      }
    },
    {
      "cell_type": "code",
      "execution_count": 15,
      "metadata": {
        "id": "CFTh2jonfR_T",
        "colab": {
          "base_uri": "https://localhost:8080/"
        },
        "outputId": "c04e1b90-4bea-4c9f-ab8b-a4daac6e9a8f"
      },
      "outputs": [
        {
          "output_type": "stream",
          "name": "stdout",
          "text": [
            "Estado final: [ 0.+1.j -1.+0.j]\n",
            "Media: (1+0j)\n",
            "Varianza: 0.0\n"
          ]
        }
      ],
      "source": [
        "import numpy as np\n",
        "\n",
        "def es_hermitiana(matriz):\n",
        "    # Verifica si la matriz es igual a su conjugada transpuesta\n",
        "    return np.allclose(matriz, matriz.conj().T)\n",
        "\n",
        "def media_varianza_observable(matriz, ket):\n",
        "    if not es_hermitiana(matriz):\n",
        "        raise ValueError(\"La matriz no es hermitiana.\")\n",
        "\n",
        "    # Calcular la media (valor esperado)\n",
        "    media = np.vdot(ket, np.dot(matriz, ket))\n",
        "\n",
        "    # Calcular la varianza\n",
        "    A2 = np.dot(matriz, matriz)\n",
        "    media_A2 = np.vdot(ket, np.dot(A2, ket))\n",
        "    varianza = media_A2 - np.abs(media) ** 2\n",
        "\n",
        "    # Asegurarse de que la varianza sea un número real\n",
        "    varianza = np.real(varianza)\n",
        "\n",
        "    return media, varianza\n",
        "\n",
        "def dinamica_sistema(matrices_U, estado_inicial):\n",
        "    estado_final = estado_inicial\n",
        "    for U in matrices_U:\n",
        "        estado_final = np.dot(U, estado_final)\n",
        "    return estado_final\n",
        "\n",
        "# Definimos las matrices de evolución\n",
        "U1 = np.array([[0, 1], [1, 0]])\n",
        "U2 = np.array([[1, 0], [0, -1]])\n",
        "\n",
        "# Estado inicial\n",
        "estado_inicial = np.array([1+0j, 0+1j])\n",
        "\n",
        "# Calculamos el estado final aplicando las matrices de evolución\n",
        "matrices_U = [U1, U2]\n",
        "estado_final = dinamica_sistema(matrices_U, estado_inicial)\n",
        "print(\"Estado final:\", estado_final)\n",
        "\n",
        "# Definimos una matriz observable para el cálculo de la media y varianza\n",
        "matriz = np.array([[1, 1j], [-1j, 2]])\n",
        "\n",
        "# Calculamos la media y varianza en el estado final\n",
        "media, varianza = media_varianza_observable(matriz, estado_final)\n",
        "print(\"Media:\", media)\n",
        "print(\"Varianza:\", varianza)\n"
      ]
    }
  ]
}