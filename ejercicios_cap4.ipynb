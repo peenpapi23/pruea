{
  "nbformat": 4,
  "nbformat_minor": 0,
  "metadata": {
    "colab": {
      "provenance": []
    },
    "kernelspec": {
      "name": "python3",
      "display_name": "Python 3"
    },
    "language_info": {
      "name": "python"
    }
  },
  "cells": [
    {
      "cell_type": "markdown",
      "source": [
        "##Ejercicios del capitulo 4\n",
        "Juan Diego Melo Suarez"
      ],
      "metadata": {
        "id": "3B2R2MTraG8o"
      }
    },
    {
      "cell_type": "markdown",
      "source": [
        "#Ejercicio 4.3.1\n",
        "este ejercicio muestra cómo los operadores de spin afectan los estados cuánticos y cómo calcular las probabilidades de colapsar en diferentes estados después de aplicar una operación cuántica"
      ],
      "metadata": {
        "id": "K5QrUkX9aXlQ"
      }
    },
    {
      "cell_type": "code",
      "execution_count": 3,
      "metadata": {
        "id": "bRQrfOVnT4XX",
        "colab": {
          "base_uri": "https://localhost:8080/"
        },
        "outputId": "28ca196e-07df-4745-e2d3-4fa3373c64d2"
      },
      "outputs": [
        {
          "output_type": "execute_result",
          "data": {
            "text/plain": [
              "(array([0, 1]), 0, 1)"
            ]
          },
          "metadata": {},
          "execution_count": 3
        }
      ],
      "source": [
        "import numpy as np\n",
        "\n",
        "# Definir el operador Pauli-X (S_x) y los estados de spin hacia arriba y hacia abajo\n",
        "Sx = np.array([[0, 1],\n",
        "               [1, 0]])\n",
        "\n",
        "# Definir el estado de spin hacia arriba |↑⟩ y el estado de spin hacia abajo |↓⟩\n",
        "spin_arriba = np.array([1, 0])\n",
        "spin_abajo = np.array([0, 1])\n",
        "\n",
        "# Aplicar S_x al estado de spin hacia arriba para obtener el nuevo estado\n",
        "nuevo_estado = np.dot(Sx, spin_arriba)\n",
        "\n",
        "# Calcular las probabilidades de colapsar en los estados de spin hacia arriba o hacia abajo después de la medición\n",
        "prob_spin_arriba = np.abs(np.dot(spin_arriba.conj(), nuevo_estado))**2\n",
        "prob_spin_abajo = np.abs(np.dot(spin_abajo.conj(), nuevo_estado))**2\n",
        "\n",
        "# Mostrar el nuevo estado y las probabilidades de colapsar en cada estado\n",
        "nuevo_estado, prob_spin_arriba, prob_spin_abajo"
      ]
    },
    {
      "cell_type": "markdown",
      "source": [
        "#Ejercicio 4.3.2\n",
        "Spin Arriba (↑): La probabilidad debería ser 0 (porque el nuevo estado es |↓⟩).\n",
        "Spin Abajo (↓): La probabilidad debería ser 1 (porque se espera que el estado colapse a |↓⟩ tras aplicar el operador Pauli-X)."
      ],
      "metadata": {
        "id": "Kyd4oUGhaZ4Y"
      }
    },
    {
      "cell_type": "code",
      "source": [
        "import numpy as np\n",
        "import matplotlib.pyplot as plt\n",
        "\n",
        "# Definir el operador Pauli-X (S_x) y los estados de spin hacia arriba y hacia abajo\n",
        "Sx = np.array([[0, 1],\n",
        "               [1, 0]])\n",
        "\n",
        "# Definir el estado de spin hacia arriba |↑⟩ y el estado de spin hacia abajo |↓⟩\n",
        "spin_arriba = np.array([1, 0])\n",
        "spin_abajo = np.array([0, 1])\n",
        "\n",
        "# Aplicar S_x al estado de spin hacia arriba para obtener el nuevo estado\n",
        "nuevo_estado = np.dot(Sx, spin_arriba)\n",
        "\n",
        "# Calcular las probabilidades de colapsar en los estados de spin hacia arriba o hacia abajo después de la medición\n",
        "prob_spin_arriba = np.abs(np.dot(spin_arriba.conj(), nuevo_estado))**2\n",
        "prob_spin_abajo = np.abs(np.dot(spin_abajo.conj(), nuevo_estado))**2\n",
        "\n",
        "# Definir los valores propios (eigenvalues) asociados con los estados de spin\n",
        "eigenvalues = ['Spin Arriba (↑)', 'Spin Abajo (↓)']\n",
        "probabilidades = [prob_spin_arriba, prob_spin_abajo]\n",
        "\n",
        "# Graficar la distribución de probabilidad\n",
        "plt.bar(eigenvalues, probabilidades, color=['blue', 'red'])\n",
        "plt.title('Distribución de Probabilidad de los Estados de Spin')\n",
        "plt.xlabel('Estados de Spin')\n",
        "plt.ylabel('Probabilidad')\n",
        "plt.ylim(0, 1)  # Asegurar que el eje y vaya de 0 a 1 para mostrar probabilidades correctamente\n",
        "plt.show()"
      ],
      "metadata": {
        "colab": {
          "base_uri": "https://localhost:8080/",
          "height": 472
        },
        "id": "xEqOJ5alamAn",
        "outputId": "9c114503-4960-4da7-96ce-64f8b4ac3540"
      },
      "execution_count": 2,
      "outputs": [
        {
          "output_type": "display_data",
          "data": {
            "text/plain": [
              "<Figure size 640x480 with 1 Axes>"
            ],
            "image/png": "[encoded data removed]"
          },
          "metadata": {}
        }
      ]
    },
    {
      "cell_type": "markdown",
      "source": [
        "#4.4.1\n",
        "Esto confirma que todas las matrices son unitarias, lo cual es importante en mecánica cuántica porque garantiza que las operaciones"
      ],
      "metadata": {
        "id": "zDpvKATzapJf"
      }
    },
    {
      "cell_type": "code",
      "source": [
        "import numpy as np\n",
        "\n",
        "# Definir las matrices U1 y U2\n",
        "U1 = np.array([[0, 1],\n",
        "               [1, 0]])\n",
        "\n",
        "U2 = np.array([[np.sqrt(2)/2, np.sqrt(2)/2],\n",
        "               [np.sqrt(2)/2, -np.sqrt(2)/2]])\n",
        "\n",
        "# Verificar que U1 y U2 son unitarias\n",
        "U1_dagger = U1.conj().T  # Conjugada transpuesta de U1\n",
        "U2_dagger = U2.conj().T  # Conjugada transpuesta de U2\n",
        "\n",
        "# Producto U1 * U1_dagger y U2 * U2_dagger\n",
        "is_U1_unitary = np.allclose(np.dot(U1_dagger, U1), np.eye(2))\n",
        "is_U2_unitary = np.allclose(np.dot(U2_dagger, U2), np.eye(2))\n",
        "\n",
        "# Producto de U1 y U2\n",
        "U_product = np.dot(U1, U2)\n",
        "\n",
        "# Verificar si el producto U1 * U2 es unitario\n",
        "U_product_dagger = U_product.conj().T\n",
        "is_product_unitary = np.allclose(np.dot(U_product_dagger, U_product), np.eye(2))\n",
        "\n",
        "is_U1_unitary, is_U2_unitary, is_product_unitary"
      ],
      "metadata": {
        "colab": {
          "base_uri": "https://localhost:8080/"
        },
        "id": "G4wTHn3Uaupg",
        "outputId": "d008bfe4-d012-4890-ea47-3cead2dc1e72"
      },
      "execution_count": 4,
      "outputs": [
        {
          "output_type": "execute_result",
          "data": {
            "text/plain": [
              "(True, True, True)"
            ]
          },
          "metadata": {},
          "execution_count": 4
        }
      ]
    },
    {
      "cell_type": "markdown",
      "source": [
        "#Ejercicio 4.4.2\n",
        "el código simula la evolución de un sistema cuántico bajo una operación unitaria específica y calcula la probabilidad de encontrar la partícula en uno de los estados posibles después de varias aplicaciones de esa operación"
      ],
      "metadata": {
        "id": "uITIyDVJawW3"
      }
    },
    {
      "cell_type": "code",
      "source": [
        "import numpy as np\n",
        "\n",
        "# Definir la matriz unitaria U\n",
        "U = np.array([[0, 1/np.sqrt(2), 1/np.sqrt(2), 0],\n",
        "              [1j/np.sqrt(2), 0, 0, 1/np.sqrt(2)],\n",
        "              [1/np.sqrt(2), 0, 0, 1j/np.sqrt(2)],\n",
        "              [0, 1/np.sqrt(2), -1/np.sqrt(2), 0]])\n",
        "\n",
        "# Estado inicial del sistema\n",
        "psi_initial = np.array([1, 0, 0, 0])\n",
        "\n",
        "# Aplicar U tres veces al estado inicial\n",
        "psi_after_1 = np.dot(U, psi_initial)\n",
        "psi_after_2 = np.dot(U, psi_after_1)\n",
        "psi_after_3 = np.dot(U, psi_after_2)\n",
        "\n",
        "# Calcular la probabilidad de encontrar la partícula en el punto 3\n",
        "# La probabilidad es el valor absoluto al cuadrado del tercer elemento del estado resultante\n",
        "probability_point_3 = np.abs(psi_after_3[2])**2\n",
        "\n",
        "psi_after_3, probability_point_3"
      ],
      "metadata": {
        "id": "jxIAU5Reay9f"
      },
      "execution_count": null,
      "outputs": []
    }
  ]
}