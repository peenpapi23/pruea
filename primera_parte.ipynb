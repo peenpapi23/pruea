{
  "nbformat": 4,
  "nbformat_minor": 0,
  "metadata": {
    "colab": {
      "provenance": []
    },
    "kernelspec": {
      "name": "python3",
      "display_name": "Python 3"
    },
    "language_info": {
      "name": "python"
    }
  },
  "cells": [
    {
      "cell_type": "markdown",
      "source": [
        "\n",
        "##TALLER TEORIA CUANTICA\n",
        "Juan Diego Melo Suarez"
      ],
      "metadata": {
        "id": "36E6JKNlNC_X"
      }
    },
    {
      "cell_type": "markdown",
      "source": [
        "##PARTE 1\n",
        "El sistema consiste en una partícula confinada a un conjunto discreto de posiciones en una línea. El simulador debe permitir especificar el número de posiciones y un vector ket de estado asignando las amplitudes.\n",
        "\n",
        "1. El sistema debe calcular la probabilidad de encontrarlo en una posición en particular.\n",
        "\n",
        "2. El sistema si se le da otro vector Ket debe buscar la probabilidad de transitar del primer vector al segundo."
      ],
      "metadata": {
        "id": "D7qQOTjLJ5en"
      }
    },
    {
      "cell_type": "markdown",
      "source": [
        "##Creacion Clase VectorKet\n",
        "Para iniciar a trabajar se crea una clase VectorKet para facilitar la manipulacion del objeto y hacer una codigo mejor estructurado.\n",
        "Este Vector Ket tiene la capacidad de manejar numeros complejos y mantiene la caracteristica que el cuadrado de sus estados debe sumar 1.\n",
        "A continuacion se muestra el codigo completo con un ejemplo, sin embargo más abajo se profundiza mas en cada punto.\n"
      ],
      "metadata": {
        "id": "Fs__3eB5KfV-"
      }
    },
    {
      "cell_type": "markdown",
      "source": [
        "--------------------------"
      ],
      "metadata": {
        "id": "YjuQhsZ5KeFO"
      }
    },
    {
      "cell_type": "code",
      "source": [
        "import numpy as np\n",
        "\n",
        "class VectorKet:\n",
        "    def __init__(self):\n",
        "        self.amplitudes = self.vector_ket()\n",
        "\n",
        "    def vector_ket(self):\n",
        "        numero_pos = int(input(\"¿Cuántas posiciones tiene? \"))\n",
        "        # Inicializar un array vacío\n",
        "        ket = np.zeros(numero_pos, dtype=complex)  # Cambié np.complex por dtype=complex\n",
        "\n",
        "        # Recoger los valores para el vector ket\n",
        "        for i in range(numero_pos):\n",
        "            valor = input(f\"Valor {i + 1} (puedes ingresar un número real o complejo, ej: 1 + 2j): \")\n",
        "            ket[i] = complex(valor)  # Convertir la entrada a un número complejo\n",
        "\n",
        "        # Verificar que el vector ket está normalizado\n",
        "        norma = np.linalg.norm(ket)\n",
        "        if not np.isclose(norma, 1):\n",
        "            print(\"El vector ket no está normalizado. La norma debe ser igual a 1.\")\n",
        "            return np.zeros(numero_pos, dtype=complex)  # Retorna un vector nulo si no está normalizado\n",
        "\n",
        "        print(\"Vector ket:\", ket)\n",
        "        return ket\n",
        "\n",
        "    def calcular_probabilidad(self, x):\n",
        "        # Asegúrate de que el índice x esté dentro de los límites del vector\n",
        "        if x < 0 or x >= len(self.amplitudes):\n",
        "            print(\"Índice fuera de los límites del vector.\")\n",
        "            return None  # Retorna None en caso de error\n",
        "\n",
        "        # Asegúrate de que el vector esté normalizado\n",
        "        norma = np.linalg.norm(self.amplitudes)\n",
        "        if norma == 0:\n",
        "            print(\"El vector tiene norma cero, no se puede calcular la probabilidad.\")\n",
        "            return None\n",
        "\n",
        "        # Calcula la probabilidad usando el módulo al cuadrado\n",
        "        probabilidad = (np.abs(self.amplitudes[x]) ** 2) / (norma ** 2)\n",
        "        return probabilidad\n",
        "\n",
        "    def calcular_probabilidad_transicion(self, otro_vector):\n",
        "        # Asegúrate de que ambos vectores tengan la misma longitud\n",
        "        if len(self.amplitudes) != len(otro_vector):\n",
        "            print(\"Los vectores deben tener la misma longitud para calcular la probabilidad de transición.\")\n",
        "            return None  # Retorna None en caso de error\n",
        "\n",
        "        # Calcular la amplitud de transición\n",
        "        amplitud_transicion = np.vdot(otro_vector, self.amplitudes)  # Producto interno conjugado\n",
        "        probabilidad_transicion = np.abs(amplitud_transicion) ** 2  # Calcular la probabilidad\n",
        "        return probabilidad_transicion\n",
        "\n",
        "def ejecutar_codigo():\n",
        "    # Crear el primer vector ket\n",
        "    print(\"Ingresando el primer vector ket:\")\n",
        "    vector_ket_1 = VectorKet()\n",
        "\n",
        "    # Solo solicitamos el segundo vector si el primero es válido\n",
        "    if np.any(vector_ket_1.amplitudes):  # Comprobamos que el primer vector no sea nulo\n",
        "        print(\"\\nAhora ingresa el segundo vector ket:\")\n",
        "        vector_ket_2 = VectorKet()\n",
        "\n",
        "        # Solo calculamos la probabilidad de transición si ambos vectores son válidos\n",
        "        if np.any(vector_ket_2.amplitudes):  # Comprobamos que el segundo vector no sea nulo\n",
        "            probabilidad_transicion = vector_ket_1.calcular_probabilidad_transicion(vector_ket_2.amplitudes)\n",
        "            if probabilidad_transicion is not None:\n",
        "                print(f\"La probabilidad de transitar del primer vector al segundo es: {probabilidad_transicion:.4f}\")\n",
        "\n",
        "        # Preguntar por la posición para calcular la probabilidad\n",
        "        posicion = int(input(\"¿Para qué posición deseas calcular la probabilidad en el primer vector? (comenzando desde 0): \"))\n",
        "        probabilidad = vector_ket_1.calcular_probabilidad(posicion)\n",
        "        if probabilidad is not None:\n",
        "            print(f\"La probabilidad de encontrar la partícula en la posición {posicion} es: {probabilidad:.4f}\")\n",
        "\n",
        "# Ejecutar el código\n",
        "ejecutar_codigo()\n"
      ],
      "metadata": {
        "colab": {
          "base_uri": "https://localhost:8080/"
        },
        "id": "uWXJmfUIJ50-",
        "outputId": "faea6b15-4b87-41e2-b1fd-e18629e130a3"
      },
      "execution_count": 24,
      "outputs": [
        {
          "output_type": "stream",
          "name": "stdout",
          "text": [
            "Ingresando el primer vector ket:\n",
            "¿Cuántas posiciones tiene? 3\n",
            "Valor 1 (puedes ingresar un número real o complejo, ej: 1 + 2j): 0.6\n",
            "Valor 2 (puedes ingresar un número real o complejo, ej: 1 + 2j): 0.8\n",
            "Valor 3 (puedes ingresar un número real o complejo, ej: 1 + 2j): 0\n",
            "Vector ket: [0.6+0.j 0.8+0.j 0. +0.j]\n",
            "\n",
            "Ahora ingresa el segundo vector ket:\n",
            "¿Cuántas posiciones tiene? 3\n",
            "Valor 1 (puedes ingresar un número real o complejo, ej: 1 + 2j): 1\n",
            "Valor 2 (puedes ingresar un número real o complejo, ej: 1 + 2j): 0\n",
            "Valor 3 (puedes ingresar un número real o complejo, ej: 1 + 2j): 0\n",
            "Vector ket: [1.+0.j 0.+0.j 0.+0.j]\n",
            "La probabilidad de transitar del primer vector al segundo es: 0.3600\n",
            "¿Para qué posición deseas calcular la probabilidad en el primer vector? (comenzando desde 0): 1\n",
            "La probabilidad de encontrar la partícula en la posición 1 es: 0.6400\n"
          ]
        }
      ]
    },
    {
      "cell_type": "markdown",
      "source": [
        "------------\n"
      ],
      "metadata": {
        "id": "D0zM1HCYM35W"
      }
    },
    {
      "cell_type": "markdown",
      "source": [
        "##Calcular probabilidad en estado de ket\n",
        "Cálculo:\n",
        "Norma del vector ket: Primero, se calcula la norma del vector, que debe ser igual a 1 para que el vector esté normalizado. Esto garantiza que la suma total de las probabilidades sea 1.\n",
        "Módulo al cuadrado de la amplitud: La probabilidad de encontrar la partícula en una posición x se calcula como el módulo al cuadrado de la amplitud correspondiente a esa posición, dividido por la norma al cuadrado del vector."
      ],
      "metadata": {
        "id": "zDr660l9M7E-"
      }
    },
    {
      "cell_type": "code",
      "source": [
        "import numpy as np\n",
        "\n",
        "def calcular_probabilidad(ket):\n",
        "    # Asegúrate de que el vector esté normalizado\n",
        "    norma = np.linalg.norm(ket)\n",
        "\n",
        "    if not np.isclose(norma, 1):\n",
        "        print(\"El vector no está normalizado. La norma debe ser igual a 1.\")\n",
        "        return None\n",
        "\n",
        "    # Solicitar la posición para calcular la probabilidad\n",
        "    x = int(input(\"Introduce la posición (entre 0 y {}): \".format(len(ket) - 1)))\n",
        "\n",
        "    # Asegúrate de que el índice x esté dentro de los límites del vector\n",
        "    if x < 0 or x >= len(ket):\n",
        "        print(\"Índice fuera de los límites del vector.\")\n",
        "        return None  # Retorna None en caso de error\n",
        "\n",
        "    # Calcula la probabilidad usando el módulo al cuadrado\n",
        "    probabilidad = (np.abs(ket[x]) ** 2) / (norma ** 2)\n",
        "    return probabilidad\n",
        "\n",
        "# Ejemplo de uso\n",
        "ket = np.array([0.6, 0.8, 0])  # Vector ket de ejemplo\n",
        "probabilidad = calcular_probabilidad(ket)\n",
        "\n",
        "if probabilidad is not None:\n",
        "    print(ket)\n",
        "    print(f\"La probabilidad de encontrar la partícula en la posición es: {probabilidad:.4f}\")"
      ],
      "metadata": {
        "colab": {
          "base_uri": "https://localhost:8080/"
        },
        "id": "6SdB5-PAQzs5",
        "outputId": "a202df32-3d20-4fe8-9989-a8d26f0ec3fe"
      },
      "execution_count": 28,
      "outputs": [
        {
          "output_type": "stream",
          "name": "stdout",
          "text": [
            "Introduce la posición (entre 0 y 2): 1\n",
            "[0.6 0.8 0. ]\n",
            "La probabilidad de encontrar la partícula en la posición es: 0.6400\n"
          ]
        }
      ]
    },
    {
      "cell_type": "markdown",
      "source": [
        "----------\n"
      ],
      "metadata": {
        "id": "IG16aXd9R2DN"
      }
    },
    {
      "cell_type": "markdown",
      "source": [
        "##Calcular probabilidad de transición\n",
        "cálculo:\n",
        "Producto interno conjugado: Se utiliza el producto interno conjugado (calculado con np.vdot(ket2, ket1)) para obtener la amplitud de transición entre los dos vectores. Este producto interno refleja la relación entre los dos estados.\n",
        "Módulo al cuadrado de la amplitud de transición: La probabilidad de transición se calcula elevando al cuadrado el módulo de la amplitud de transición.\n",
        "Interpretación: Esta probabilidad mide la posibilidad de que la partícula cambie de estar en el estado representado por ket1 a estar en el estado representado por ket2"
      ],
      "metadata": {
        "id": "DX9WsolRRbwh"
      }
    },
    {
      "cell_type": "code",
      "source": [
        "import numpy as np\n",
        "\n",
        "def calcular_probabilidad_transicion(ket1, ket2):\n",
        "    # Asegúrate de que ambos vectores tengan la misma longitud\n",
        "    if len(ket1) != len(ket2):\n",
        "        print(\"Los vectores deben tener la misma longitud para calcular la probabilidad de transición.\")\n",
        "        return None  # Retorna None en caso de error\n",
        "\n",
        "    # Calcular la amplitud de transición\n",
        "    amplitud_transicion = np.vdot(ket2, ket1)  # Producto interno conjugado\n",
        "    probabilidad_transicion = np.abs(amplitud_transicion) ** 2  # Calcular la probabilidad\n",
        "    return probabilidad_transicion\n",
        "\n",
        "# Ejemplo de uso\n",
        "ket1 = np.array([0.6, 0.8, 0], dtype=complex)  # Primer vector ket\n",
        "ket2 = np.array([0.8, 0.6, 0], dtype=complex)  # Segundo vector ket\n",
        "\n",
        "# Calcular la probabilidad de transición\n",
        "probabilidad = calcular_probabilidad_transicion(ket1, ket2)\n",
        "\n",
        "if probabilidad is not None:\n",
        "    print(f\"La probabilidad de transición de ket1 a ket2 es: {probabilidad:.4f}\")\n"
      ],
      "metadata": {
        "colab": {
          "base_uri": "https://localhost:8080/"
        },
        "id": "xmCaxEWiKSa3",
        "outputId": "eba98436-0306-45b5-986a-d641d30a399f"
      },
      "execution_count": 29,
      "outputs": [
        {
          "output_type": "stream",
          "name": "stdout",
          "text": [
            "La probabilidad de transición de ket1 a ket2 es: 0.9216\n"
          ]
        }
      ]
    }
  ]
}